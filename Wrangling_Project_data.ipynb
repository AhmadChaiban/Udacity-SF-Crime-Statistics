{
 "cells": [
  {
   "cell_type": "code",
   "execution_count": 1,
   "metadata": {
    "editable": true
   },
   "outputs": [],
   "source": [
    "import json\n",
    "from pyspark.sql import SparkSession\n",
    "from pyspark.sql.types import *\n",
    "import pyspark.sql.functions as psf\n",
    "from pyspark import SparkContext\n",
    "from pyspark.sql import SQLContext "
   ]
  },
  {
   "cell_type": "code",
   "execution_count": 2,
   "metadata": {
    "editable": true
   },
   "outputs": [],
   "source": [
    "sc = SparkContext(appName=\"Wrangling-Project-Data\")"
   ]
  },
  {
   "cell_type": "code",
   "execution_count": 3,
   "metadata": {
    "editable": true
   },
   "outputs": [],
   "source": [
    "sqlContext = SQLContext(sc)"
   ]
  },
  {
   "cell_type": "code",
   "execution_count": 10,
   "metadata": {
    "editable": true
   },
   "outputs": [],
   "source": [
    "path = 'police-department-calls-for-service.json'\n",
    "df = sqlContext.read.json(path,multiLine=True)"
   ]
  },
  {
   "cell_type": "code",
   "execution_count": 11,
   "metadata": {
    "editable": true
   },
   "outputs": [
    {
     "name": "stdout",
     "output_type": "stream",
     "text": [
      "root\n",
      " |-- address: string (nullable = true)\n",
      " |-- address_type: string (nullable = true)\n",
      " |-- agency_id: string (nullable = true)\n",
      " |-- call_date: string (nullable = true)\n",
      " |-- call_date_time: string (nullable = true)\n",
      " |-- call_time: string (nullable = true)\n",
      " |-- city: string (nullable = true)\n",
      " |-- common_location: string (nullable = true)\n",
      " |-- crime_id: string (nullable = true)\n",
      " |-- disposition: string (nullable = true)\n",
      " |-- offense_date: string (nullable = true)\n",
      " |-- original_crime_type_name: string (nullable = true)\n",
      " |-- report_date: string (nullable = true)\n",
      " |-- state: string (nullable = true)\n",
      "\n"
     ]
    }
   ],
   "source": [
    "df.printSchema()"
   ]
  },
  {
   "cell_type": "code",
   "execution_count": 15,
   "metadata": {
    "editable": true
   },
   "outputs": [
    {
     "name": "stdout",
     "output_type": "stream",
     "text": [
      "+------------------------+------------+\n",
      "|original_crime_type_name| disposition|\n",
      "+------------------------+------------+\n",
      "|            Traffic Stop|         ADM|\n",
      "|     Traf Violation Cite|         CIT|\n",
      "|            Passing Call|         HAN|\n",
      "|           Audible Alarm|         PAS|\n",
      "|            Traffic Stop|         CIT|\n",
      "|            Passing Call|          ND|\n",
      "|            Traffic Stop|         CIT|\n",
      "|            Traffic Stop|         HAN|\n",
      "|            Passing Call|Not recorded|\n",
      "|         Fight No Weapon|         GOA|\n",
      "|            Traffic Stop|         HAN|\n",
      "|            Passing Call|         HAN|\n",
      "|            Passing Call|         HAN|\n",
      "|            Traffic Stop|         CIT|\n",
      "|                     Att|         REP|\n",
      "|      Auto Boost / Strip|         REP|\n",
      "|            Passing Call|         HAN|\n",
      "|            Traffic Stop|         ADV|\n",
      "|            Passing Call|         HAN|\n",
      "|      Suspicious Vehicle|         ADV|\n",
      "+------------------------+------------+\n",
      "only showing top 20 rows\n",
      "\n"
     ]
    }
   ],
   "source": [
    "## select original_crime_type_name and disposition\n",
    "df.select(\"original_crime_type_name\",\"disposition\").show()"
   ]
  },
  {
   "cell_type": "code",
   "execution_count": 20,
   "metadata": {
    "editable": true
   },
   "outputs": [
    {
     "name": "stdout",
     "output_type": "stream",
     "text": [
      "+------------------------+-----+\n",
      "|original_crime_type_name|count|\n",
      "+------------------------+-----+\n",
      "|                 Footage|    7|\n",
      "|                   Sword|    6|\n",
      "|                 415/909|    1|\n",
      "|            Physical/601|    1|\n",
      "|                   915/x|    1|\n",
      "|              Ne Tx 0123|    1|\n",
      "|                 488/594|    2|\n",
      "|                   Drink|    1|\n",
      "|                 Dealing|    5|\n",
      "|                 Erratic|    3|\n",
      "|          594 W/ Bb Guns|    1|\n",
      "|            Passing Call|35180|\n",
      "|                     853|   30|\n",
      "|          Person W/knife|  616|\n",
      "|                     800|  218|\n",
      "|                      Gz|   57|\n",
      "|               Loud Bass|    3|\n",
      "|                   2200e|    1|\n",
      "|            Dropped Call|   14|\n",
      "|              Music/ 909|    1|\n",
      "+------------------------+-----+\n",
      "only showing top 20 rows\n",
      "\n"
     ]
    }
   ],
   "source": [
    "## count the number of original crime type\n",
    "df.select(\"original_crime_type_name\").groupby(\"original_crime_type_name\").count().show()"
   ]
  },
  {
   "cell_type": "code",
   "execution_count": 21,
   "metadata": {
    "editable": true
   },
   "outputs": [
    {
     "data": {
      "text/plain": [
       "3418"
      ]
     },
     "execution_count": 21,
     "metadata": {},
     "output_type": "execute_result"
    }
   ],
   "source": [
    "df.select(\"original_crime_type_name\").dropDuplicates().count()"
   ]
  },
  {
   "cell_type": "code",
   "execution_count": null,
   "metadata": {
    "editable": true
   },
   "outputs": [],
   "source": []
  }
 ],
 "metadata": {
  "kernelspec": {
   "display_name": "Python 3",
   "language": "python",
   "name": "python3"
  },
  "language_info": {
   "codemirror_mode": {
    "name": "ipython",
    "version": 3
   },
   "file_extension": ".py",
   "mimetype": "text/x-python",
   "name": "python",
   "nbconvert_exporter": "python",
   "pygments_lexer": "ipython3",
   "version": "3.7.3"
  }
 },
 "nbformat": 4,
 "nbformat_minor": 4
}
